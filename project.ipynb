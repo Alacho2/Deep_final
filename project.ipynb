{
 "cells": [
  {
   "cell_type": "code",
   "execution_count": 107,
   "metadata": {
    "collapsed": true,
    "pycharm": {
     "name": "#%%\n"
    }
   },
   "outputs": [],
   "source": [
    "import pandas as pd\n",
    "import numpy as np\n",
    "import torch\n",
    "import torch.nn as nn"
   ]
  },
  {
   "cell_type": "code",
   "execution_count": 108,
   "outputs": [],
   "source": [
    "df = pd.read_csv('./NYCTaxiFares_small.csv')"
   ],
   "metadata": {
    "collapsed": false,
    "pycharm": {
     "name": "#%%\n"
    }
   }
  },
  {
   "cell_type": "code",
   "execution_count": 109,
   "outputs": [],
   "source": [
    "## Running this cell is really fucking slow, but it works.\n",
    "df['pickup_datetime'] = pd.to_datetime(df['pickup_datetime'])\n",
    "\n",
    "def havardsine_distance(lat1, long1, lat2, long2):\n",
    "    r = 6371\n",
    "\n",
    "    phi1 = np.radians(lat1)\n",
    "    phi2 = np.radians(lat2)\n",
    "\n",
    "    delta_phi = np.radians(lat2 - lat1)\n",
    "    delta_lambda = np.radians(long2 - long1)\n",
    "    a = np.sin(delta_phi / 2.0) ** 2 + np.cos(phi1) * np.cos(phi2) * np.sin(delta_lambda / 2.0) ** 2\n",
    "    c = 2 * np.arctan2(np.sqrt(a), np.sqrt(1 - a))\n",
    "    d = (r * c) # convert to kilometer\n",
    "    return d\n",
    "\n",
    "df['dist_km'] = df.apply(lambda row: havardsine_distance(row.pickup_latitude, row.pickup_longitude, row.dropoff_latitude, row.dropoff_longitude), axis=1)\n",
    "\n",
    "airport_cords = [\n",
    "    [40.691547, -74.180202], # NEWARK\n",
    "    [40.773281, -73.869845], # LAGUARDIA\n",
    "]\n",
    "\n",
    "# When I wrote this code, only God and I knew what was going on. Today, only God knows.\n",
    "def close_to_airport(values):\n",
    "    pickup_latitude = values['pickup_latitude']\n",
    "    pickup_longitude = values['pickup_longitude']\n",
    "    dropoff_latitude = values['dropoff_latitude']\n",
    "    dropoff_longitude = values['dropoff_longitude']\n",
    "\n",
    "    # JFK is special, it needs a bigger radius\n",
    "    jfkpickup = havardsine_distance(pickup_latitude, pickup_longitude, 40.645042, -73.786928) <= 1.00\n",
    "    jfkdropoff = havardsine_distance(dropoff_latitude, dropoff_longitude, 40.645042, -73.786928) <= 1.00\n",
    "\n",
    "    # Newark is a small airport but their parking log is BIG.\n",
    "    newarkpickup = havardsine_distance(pickup_latitude, pickup_longitude, 40.691547, -74.180202) <= 1.00\n",
    "    newarkdropoff = havardsine_distance(dropoff_latitude, dropoff_longitude, 40.691547, -74.180202) <= 1.00\n",
    "\n",
    "    # Third largest, it's an abstract airport with a stretched out U shaped parking place\n",
    "    # LaGuardia\n",
    "    laguardiapickup = havardsine_distance(pickup_latitude, pickup_longitude, 40.773855, -73.871712) <= 0.50\n",
    "    laguardiadropoff = havardsine_distance(dropoff_latitude, dropoff_longitude, 40.773855, -73.871712) <= 0.50\n",
    "\n",
    "    return 1 if jfkpickup or jfkdropoff or newarkpickup or newarkdropoff or laguardiapickup or laguardiadropoff else 0\n",
    "\n",
    "df['is_by_airport'] = df.apply(close_to_airport, axis=1)"
   ],
   "metadata": {
    "collapsed": false,
    "pycharm": {
     "name": "#%%\n"
    }
   }
  },
  {
   "cell_type": "code",
   "execution_count": 110,
   "outputs": [],
   "source": [
    "my_time = df['pickup_datetime'][0]"
   ],
   "metadata": {
    "collapsed": false,
    "pycharm": {
     "name": "#%%\n"
    }
   }
  },
  {
   "cell_type": "code",
   "execution_count": 111,
   "outputs": [],
   "source": [
    "df['EDTdate'] = df['pickup_datetime'] - pd.Timedelta(hours=4)\n",
    "df['Hour'] = df['EDTdate'].dt.hour\n",
    "df['AMorPM'] = np.where(df['Hour'] < 12, 'am', 'pm')"
   ],
   "metadata": {
    "collapsed": false,
    "pycharm": {
     "name": "#%%\n"
    }
   }
  },
  {
   "cell_type": "code",
   "execution_count": 113,
   "outputs": [
    {
     "data": {
      "text/plain": "                 pickup_datetime  fare_amount  fare_class  pickup_longitude  \\\n0      2010-04-19 08:17:56+00:00          6.5           0        -73.992365   \n1      2010-04-17 15:43:53+00:00          6.9           0        -73.990078   \n2      2010-04-17 11:23:26+00:00         10.1           1        -73.994149   \n3      2010-04-11 21:25:03+00:00          8.9           0        -73.990485   \n4      2010-04-17 02:19:01+00:00         19.7           1        -73.990976   \n...                          ...          ...         ...               ...   \n119995 2010-04-18 14:33:03+00:00         15.3           1        -73.955857   \n119996 2010-04-23 10:27:48+00:00         15.3           1        -73.996329   \n119997 2010-04-18 18:50:40+00:00         12.5           1        -73.988574   \n119998 2010-04-13 08:14:44+00:00          4.9           0        -74.004449   \n119999 2010-04-17 16:00:14+00:00          5.3           0        -73.955415   \n\n        pickup_latitude  dropoff_longitude  dropoff_latitude  passenger_count  \\\n0             40.730521         -73.975499         40.744746                1   \n1             40.740558         -73.974232         40.744114                1   \n2             40.751118         -73.960064         40.766235                2   \n3             40.756422         -73.971205         40.748192                1   \n4             40.734202         -73.905956         40.743115                1   \n...                 ...                ...               ...              ...   \n119995        40.784590         -73.981941         40.736789                1   \n119996        40.772727         -74.049890         40.740413                1   \n119997        40.749772         -74.011541         40.707799                3   \n119998        40.724529         -73.992697         40.730765                1   \n119999        40.771920         -73.967623         40.763015                3   \n\n         dist_km  is_by_airport                   EDTdate  Hour AMorPM Weekday  \n0       2.126312              0 2010-04-19 04:17:56+00:00     4     am     Mon  \n1       1.392307              0 2010-04-17 11:43:53+00:00    11     am     Sat  \n2       3.326763              0 2010-04-17 07:23:26+00:00     7     am     Sat  \n3       1.864129              0 2010-04-11 17:25:03+00:00    17     pm     Sun  \n4       7.231321              0 2010-04-16 22:19:01+00:00    22     pm     Fri  \n...          ...            ...                       ...   ...    ...     ...  \n119995  5.751348              0 2010-04-18 10:33:03+00:00    10     am     Sun  \n119996  5.767444              0 2010-04-23 06:27:48+00:00     6     am     Fri  \n119997  5.052523              0 2010-04-18 14:50:40+00:00    14     pm     Sun  \n119998  1.208923              0 2010-04-13 04:14:44+00:00     4     am     Tue  \n119999  1.427399              0 2010-04-17 12:00:14+00:00    12     pm     Sat  \n\n[120000 rows x 14 columns]",
      "text/html": "<div>\n<style scoped>\n    .dataframe tbody tr th:only-of-type {\n        vertical-align: middle;\n    }\n\n    .dataframe tbody tr th {\n        vertical-align: top;\n    }\n\n    .dataframe thead th {\n        text-align: right;\n    }\n</style>\n<table border=\"1\" class=\"dataframe\">\n  <thead>\n    <tr style=\"text-align: right;\">\n      <th></th>\n      <th>pickup_datetime</th>\n      <th>fare_amount</th>\n      <th>fare_class</th>\n      <th>pickup_longitude</th>\n      <th>pickup_latitude</th>\n      <th>dropoff_longitude</th>\n      <th>dropoff_latitude</th>\n      <th>passenger_count</th>\n      <th>dist_km</th>\n      <th>is_by_airport</th>\n      <th>EDTdate</th>\n      <th>Hour</th>\n      <th>AMorPM</th>\n      <th>Weekday</th>\n    </tr>\n  </thead>\n  <tbody>\n    <tr>\n      <th>0</th>\n      <td>2010-04-19 08:17:56+00:00</td>\n      <td>6.5</td>\n      <td>0</td>\n      <td>-73.992365</td>\n      <td>40.730521</td>\n      <td>-73.975499</td>\n      <td>40.744746</td>\n      <td>1</td>\n      <td>2.126312</td>\n      <td>0</td>\n      <td>2010-04-19 04:17:56+00:00</td>\n      <td>4</td>\n      <td>am</td>\n      <td>Mon</td>\n    </tr>\n    <tr>\n      <th>1</th>\n      <td>2010-04-17 15:43:53+00:00</td>\n      <td>6.9</td>\n      <td>0</td>\n      <td>-73.990078</td>\n      <td>40.740558</td>\n      <td>-73.974232</td>\n      <td>40.744114</td>\n      <td>1</td>\n      <td>1.392307</td>\n      <td>0</td>\n      <td>2010-04-17 11:43:53+00:00</td>\n      <td>11</td>\n      <td>am</td>\n      <td>Sat</td>\n    </tr>\n    <tr>\n      <th>2</th>\n      <td>2010-04-17 11:23:26+00:00</td>\n      <td>10.1</td>\n      <td>1</td>\n      <td>-73.994149</td>\n      <td>40.751118</td>\n      <td>-73.960064</td>\n      <td>40.766235</td>\n      <td>2</td>\n      <td>3.326763</td>\n      <td>0</td>\n      <td>2010-04-17 07:23:26+00:00</td>\n      <td>7</td>\n      <td>am</td>\n      <td>Sat</td>\n    </tr>\n    <tr>\n      <th>3</th>\n      <td>2010-04-11 21:25:03+00:00</td>\n      <td>8.9</td>\n      <td>0</td>\n      <td>-73.990485</td>\n      <td>40.756422</td>\n      <td>-73.971205</td>\n      <td>40.748192</td>\n      <td>1</td>\n      <td>1.864129</td>\n      <td>0</td>\n      <td>2010-04-11 17:25:03+00:00</td>\n      <td>17</td>\n      <td>pm</td>\n      <td>Sun</td>\n    </tr>\n    <tr>\n      <th>4</th>\n      <td>2010-04-17 02:19:01+00:00</td>\n      <td>19.7</td>\n      <td>1</td>\n      <td>-73.990976</td>\n      <td>40.734202</td>\n      <td>-73.905956</td>\n      <td>40.743115</td>\n      <td>1</td>\n      <td>7.231321</td>\n      <td>0</td>\n      <td>2010-04-16 22:19:01+00:00</td>\n      <td>22</td>\n      <td>pm</td>\n      <td>Fri</td>\n    </tr>\n    <tr>\n      <th>...</th>\n      <td>...</td>\n      <td>...</td>\n      <td>...</td>\n      <td>...</td>\n      <td>...</td>\n      <td>...</td>\n      <td>...</td>\n      <td>...</td>\n      <td>...</td>\n      <td>...</td>\n      <td>...</td>\n      <td>...</td>\n      <td>...</td>\n      <td>...</td>\n    </tr>\n    <tr>\n      <th>119995</th>\n      <td>2010-04-18 14:33:03+00:00</td>\n      <td>15.3</td>\n      <td>1</td>\n      <td>-73.955857</td>\n      <td>40.784590</td>\n      <td>-73.981941</td>\n      <td>40.736789</td>\n      <td>1</td>\n      <td>5.751348</td>\n      <td>0</td>\n      <td>2010-04-18 10:33:03+00:00</td>\n      <td>10</td>\n      <td>am</td>\n      <td>Sun</td>\n    </tr>\n    <tr>\n      <th>119996</th>\n      <td>2010-04-23 10:27:48+00:00</td>\n      <td>15.3</td>\n      <td>1</td>\n      <td>-73.996329</td>\n      <td>40.772727</td>\n      <td>-74.049890</td>\n      <td>40.740413</td>\n      <td>1</td>\n      <td>5.767444</td>\n      <td>0</td>\n      <td>2010-04-23 06:27:48+00:00</td>\n      <td>6</td>\n      <td>am</td>\n      <td>Fri</td>\n    </tr>\n    <tr>\n      <th>119997</th>\n      <td>2010-04-18 18:50:40+00:00</td>\n      <td>12.5</td>\n      <td>1</td>\n      <td>-73.988574</td>\n      <td>40.749772</td>\n      <td>-74.011541</td>\n      <td>40.707799</td>\n      <td>3</td>\n      <td>5.052523</td>\n      <td>0</td>\n      <td>2010-04-18 14:50:40+00:00</td>\n      <td>14</td>\n      <td>pm</td>\n      <td>Sun</td>\n    </tr>\n    <tr>\n      <th>119998</th>\n      <td>2010-04-13 08:14:44+00:00</td>\n      <td>4.9</td>\n      <td>0</td>\n      <td>-74.004449</td>\n      <td>40.724529</td>\n      <td>-73.992697</td>\n      <td>40.730765</td>\n      <td>1</td>\n      <td>1.208923</td>\n      <td>0</td>\n      <td>2010-04-13 04:14:44+00:00</td>\n      <td>4</td>\n      <td>am</td>\n      <td>Tue</td>\n    </tr>\n    <tr>\n      <th>119999</th>\n      <td>2010-04-17 16:00:14+00:00</td>\n      <td>5.3</td>\n      <td>0</td>\n      <td>-73.955415</td>\n      <td>40.771920</td>\n      <td>-73.967623</td>\n      <td>40.763015</td>\n      <td>3</td>\n      <td>1.427399</td>\n      <td>0</td>\n      <td>2010-04-17 12:00:14+00:00</td>\n      <td>12</td>\n      <td>pm</td>\n      <td>Sat</td>\n    </tr>\n  </tbody>\n</table>\n<p>120000 rows × 14 columns</p>\n</div>"
     },
     "execution_count": 113,
     "metadata": {},
     "output_type": "execute_result"
    }
   ],
   "source": [
    "df['Weekday'] = df['EDTdate'].dt.strftime(\"%a\")"
   ],
   "metadata": {
    "collapsed": false,
    "pycharm": {
     "name": "#%%\n"
    }
   }
  },
  {
   "cell_type": "code",
   "execution_count": null,
   "outputs": [],
   "source": [
    "class TaxiFairNetwork(nn.Module):\n",
    "    def __init__(self):\n",
    "        super().__init__()\n",
    "        self.fc1 = nn.Linear(14, 40)\n",
    "        self.av1 = nn.ReLU()\n",
    "        self.fc2 = nn.Linear(40, 40)\n",
    "        self.av2 = nn.ReLU()\n",
    "        self.fc3 = nn.Linear(40, 40)\n",
    "\n",
    "    def forward(self, x):\n",
    "        return x"
   ],
   "metadata": {
    "collapsed": false,
    "pycharm": {
     "name": "#%%\n"
    }
   }
  }
 ],
 "metadata": {
  "kernelspec": {
   "display_name": "Python 3",
   "language": "python",
   "name": "python3"
  },
  "language_info": {
   "codemirror_mode": {
    "name": "ipython",
    "version": 2
   },
   "file_extension": ".py",
   "mimetype": "text/x-python",
   "name": "python",
   "nbconvert_exporter": "python",
   "pygments_lexer": "ipython2",
   "version": "2.7.6"
  }
 },
 "nbformat": 4,
 "nbformat_minor": 0
}