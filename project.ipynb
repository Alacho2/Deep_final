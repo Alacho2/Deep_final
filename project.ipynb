{
 "cells": [
  {
   "cell_type": "code",
   "execution_count": 17,
   "outputs": [],
   "source": [
    "import pandas as pd\n",
    "import numpy as np\n",
    "import opendatasets as od\n",
    "import time\n",
    "import datetime\n",
    "from sklearn.model_selection import train_test_split"
   ],
   "metadata": {
    "collapsed": false,
    "pycharm": {
     "name": "#%%\n"
    }
   }
  },
  {
   "cell_type": "code",
   "execution_count": 145,
   "outputs": [
    {
     "name": "stdout",
     "output_type": "stream",
     "text": [
      "Please provide your Kaggle credentials to download this dataset. Learn more: http://bit.ly/kaggle-creds\n",
      "Your Kaggle username:Your Kaggle Key:Downloading new-york-city-taxi-fare-prediction.zip to ./new-york-city-taxi-fare-prediction\n"
     ]
    },
    {
     "name": "stderr",
     "output_type": "stream",
     "text": [
      "100%|██████████| 1.56G/1.56G [30:18<00:00, 921kB/s]  \n"
     ]
    },
    {
     "name": "stdout",
     "output_type": "stream",
     "text": [
      "\n",
      "Extracting archive ./new-york-city-taxi-fare-prediction/new-york-city-taxi-fare-prediction.zip to ./new-york-city-taxi-fare-prediction\n"
     ]
    }
   ],
   "source": [
    "dataset_url = 'https://www.kaggle.com/competitions/new-york-city-taxi-fare-prediction'\n",
    "od.download(dataset_url)"
   ],
   "metadata": {
    "collapsed": false,
    "pycharm": {
     "name": "#%%\n"
    }
   }
  },
  {
   "cell_type": "code",
   "execution_count": 2,
   "outputs": [
    {
     "data": {
      "text/plain": "'2010-04-25 03:59:42 UTC'"
     },
     "execution_count": 2,
     "metadata": {},
     "output_type": "execute_result"
    }
   ],
   "source": [
    "df = pd.read_csv('./NYCTaxiFares_small.csv')\n",
    "df['pickup_datetime'].max()"
   ],
   "metadata": {
    "collapsed": false,
    "pycharm": {
     "name": "#%%\n"
    }
   }
  },
  {
   "cell_type": "code",
   "execution_count": 146,
   "outputs": [
    {
     "data": {
      "text/plain": "                                    key  fare_amount          pickup_datetime  \\\n0           2009-06-15 17:26:21.0000001          4.5  2009-06-15 17:26:21 UTC   \n1           2010-01-05 16:52:16.0000002         16.9  2010-01-05 16:52:16 UTC   \n2          2011-08-18 00:35:00.00000049          5.7  2011-08-18 00:35:00 UTC   \n3           2012-04-21 04:30:42.0000001          7.7  2012-04-21 04:30:42 UTC   \n4         2010-03-09 07:51:00.000000135          5.3  2010-03-09 07:51:00 UTC   \n...                                 ...          ...                      ...   \n55423851   2014-03-15 03:28:00.00000070         14.0  2014-03-15 03:28:00 UTC   \n55423852    2009-03-24 20:46:20.0000002          4.2  2009-03-24 20:46:20 UTC   \n55423853    2011-04-02 22:04:24.0000004         14.1  2011-04-02 22:04:24 UTC   \n55423854    2011-10-26 05:57:51.0000002         28.9  2011-10-26 05:57:51 UTC   \n55423855   2014-12-12 11:33:00.00000015          7.5  2014-12-12 11:33:00 UTC   \n\n          pickup_longitude  pickup_latitude  dropoff_longitude  \\\n0               -73.844311        40.721319         -73.841610   \n1               -74.016048        40.711303         -73.979268   \n2               -73.982738        40.761270         -73.991242   \n3               -73.987130        40.733143         -73.991567   \n4               -73.968095        40.768008         -73.956655   \n...                    ...              ...                ...   \n55423851        -74.005272        40.740027         -73.963280   \n55423852        -73.957784        40.765530         -73.951640   \n55423853        -73.970505        40.752325         -73.960537   \n55423854        -73.980901        40.764629         -73.870605   \n55423855        -73.969722        40.797668         -73.970885   \n\n          dropoff_latitude  passenger_count  \n0                40.712278                1  \n1                40.782004                1  \n2                40.750562                2  \n3                40.758092                1  \n4                40.783762                1  \n...                    ...              ...  \n55423851         40.762555                1  \n55423852         40.773959                1  \n55423853         40.797342                1  \n55423854         40.773963                1  \n55423855         40.783313                1  \n\n[55423856 rows x 8 columns]",
      "text/html": "<div>\n<style scoped>\n    .dataframe tbody tr th:only-of-type {\n        vertical-align: middle;\n    }\n\n    .dataframe tbody tr th {\n        vertical-align: top;\n    }\n\n    .dataframe thead th {\n        text-align: right;\n    }\n</style>\n<table border=\"1\" class=\"dataframe\">\n  <thead>\n    <tr style=\"text-align: right;\">\n      <th></th>\n      <th>key</th>\n      <th>fare_amount</th>\n      <th>pickup_datetime</th>\n      <th>pickup_longitude</th>\n      <th>pickup_latitude</th>\n      <th>dropoff_longitude</th>\n      <th>dropoff_latitude</th>\n      <th>passenger_count</th>\n    </tr>\n  </thead>\n  <tbody>\n    <tr>\n      <th>0</th>\n      <td>2009-06-15 17:26:21.0000001</td>\n      <td>4.5</td>\n      <td>2009-06-15 17:26:21 UTC</td>\n      <td>-73.844311</td>\n      <td>40.721319</td>\n      <td>-73.841610</td>\n      <td>40.712278</td>\n      <td>1</td>\n    </tr>\n    <tr>\n      <th>1</th>\n      <td>2010-01-05 16:52:16.0000002</td>\n      <td>16.9</td>\n      <td>2010-01-05 16:52:16 UTC</td>\n      <td>-74.016048</td>\n      <td>40.711303</td>\n      <td>-73.979268</td>\n      <td>40.782004</td>\n      <td>1</td>\n    </tr>\n    <tr>\n      <th>2</th>\n      <td>2011-08-18 00:35:00.00000049</td>\n      <td>5.7</td>\n      <td>2011-08-18 00:35:00 UTC</td>\n      <td>-73.982738</td>\n      <td>40.761270</td>\n      <td>-73.991242</td>\n      <td>40.750562</td>\n      <td>2</td>\n    </tr>\n    <tr>\n      <th>3</th>\n      <td>2012-04-21 04:30:42.0000001</td>\n      <td>7.7</td>\n      <td>2012-04-21 04:30:42 UTC</td>\n      <td>-73.987130</td>\n      <td>40.733143</td>\n      <td>-73.991567</td>\n      <td>40.758092</td>\n      <td>1</td>\n    </tr>\n    <tr>\n      <th>4</th>\n      <td>2010-03-09 07:51:00.000000135</td>\n      <td>5.3</td>\n      <td>2010-03-09 07:51:00 UTC</td>\n      <td>-73.968095</td>\n      <td>40.768008</td>\n      <td>-73.956655</td>\n      <td>40.783762</td>\n      <td>1</td>\n    </tr>\n    <tr>\n      <th>...</th>\n      <td>...</td>\n      <td>...</td>\n      <td>...</td>\n      <td>...</td>\n      <td>...</td>\n      <td>...</td>\n      <td>...</td>\n      <td>...</td>\n    </tr>\n    <tr>\n      <th>55423851</th>\n      <td>2014-03-15 03:28:00.00000070</td>\n      <td>14.0</td>\n      <td>2014-03-15 03:28:00 UTC</td>\n      <td>-74.005272</td>\n      <td>40.740027</td>\n      <td>-73.963280</td>\n      <td>40.762555</td>\n      <td>1</td>\n    </tr>\n    <tr>\n      <th>55423852</th>\n      <td>2009-03-24 20:46:20.0000002</td>\n      <td>4.2</td>\n      <td>2009-03-24 20:46:20 UTC</td>\n      <td>-73.957784</td>\n      <td>40.765530</td>\n      <td>-73.951640</td>\n      <td>40.773959</td>\n      <td>1</td>\n    </tr>\n    <tr>\n      <th>55423853</th>\n      <td>2011-04-02 22:04:24.0000004</td>\n      <td>14.1</td>\n      <td>2011-04-02 22:04:24 UTC</td>\n      <td>-73.970505</td>\n      <td>40.752325</td>\n      <td>-73.960537</td>\n      <td>40.797342</td>\n      <td>1</td>\n    </tr>\n    <tr>\n      <th>55423854</th>\n      <td>2011-10-26 05:57:51.0000002</td>\n      <td>28.9</td>\n      <td>2011-10-26 05:57:51 UTC</td>\n      <td>-73.980901</td>\n      <td>40.764629</td>\n      <td>-73.870605</td>\n      <td>40.773963</td>\n      <td>1</td>\n    </tr>\n    <tr>\n      <th>55423855</th>\n      <td>2014-12-12 11:33:00.00000015</td>\n      <td>7.5</td>\n      <td>2014-12-12 11:33:00 UTC</td>\n      <td>-73.969722</td>\n      <td>40.797668</td>\n      <td>-73.970885</td>\n      <td>40.783313</td>\n      <td>1</td>\n    </tr>\n  </tbody>\n</table>\n<p>55423856 rows × 8 columns</p>\n</div>"
     },
     "execution_count": 146,
     "metadata": {},
     "output_type": "execute_result"
    }
   ],
   "source": [],
   "metadata": {
    "collapsed": false,
    "pycharm": {
     "name": "#%%\n"
    }
   }
  },
  {
   "cell_type": "code",
   "execution_count": 3,
   "outputs": [],
   "source": [
    "## Running this cell is really fucking slow, but it works.\n",
    "df['pickup_datetime'] = pd.to_datetime(df['pickup_datetime'])\n",
    "\n",
    "def havardsine_distance(lat1, long1, lat2, long2):\n",
    "    r = 6371\n",
    "\n",
    "    phi1 = np.radians(lat1)\n",
    "    phi2 = np.radians(lat2)\n",
    "\n",
    "    delta_phi = np.radians(lat2 - lat1)\n",
    "    delta_lambda = np.radians(long2 - long1)\n",
    "    a = np.sin(delta_phi / 2.0) ** 2 + np.cos(phi1) * np.cos(phi2) * np.sin(delta_lambda / 2.0) ** 2\n",
    "    c = 2 * np.arctan2(np.sqrt(a), np.sqrt(1 - a))\n",
    "    d = (r * c) # convert to kilometer\n",
    "    return d\n",
    "\n",
    "df['dist_km'] = df.apply(lambda row: havardsine_distance(row.pickup_latitude, row.pickup_longitude, row.dropoff_latitude, row.dropoff_longitude), axis=1)\n",
    "\n",
    "airport_cords = [\n",
    "    [40.691547, -74.180202], # NEWARK\n",
    "    [40.773281, -73.869845], # LAGUARDIA\n",
    "]\n",
    "\n",
    "# When I wrote this code, only God and I knew what was going on. Today, only God knows.\n",
    "def close_to_airport(values):\n",
    "    pickup_latitude = values['pickup_latitude']\n",
    "    pickup_longitude = values['pickup_longitude']\n",
    "    dropoff_latitude = values['dropoff_latitude']\n",
    "    dropoff_longitude = values['dropoff_longitude']\n",
    "\n",
    "    # JFK is special, it needs a bigger radius\n",
    "    jfkpickup = havardsine_distance(pickup_latitude, pickup_longitude, 40.645042, -73.786928) <= 1.00\n",
    "    jfkdropoff = havardsine_distance(dropoff_latitude, dropoff_longitude, 40.645042, -73.786928) <= 1.00\n",
    "\n",
    "    # Newark is a small airport but their parking log is BIG.\n",
    "    newarkpickup = havardsine_distance(pickup_latitude, pickup_longitude, 40.691547, -74.180202) <= 1.00\n",
    "    newarkdropoff = havardsine_distance(dropoff_latitude, dropoff_longitude, 40.691547, -74.180202) <= 1.00\n",
    "\n",
    "    # Third largest, it's an abstract airport with a stretched out U shaped parking place\n",
    "    # LaGuardia\n",
    "    laguardiapickup = havardsine_distance(pickup_latitude, pickup_longitude, 40.773855, -73.871712) <= 0.50\n",
    "    laguardiadropoff = havardsine_distance(dropoff_latitude, dropoff_longitude, 40.773855, -73.871712) <= 0.50\n",
    "\n",
    "    return 1 if jfkpickup or jfkdropoff or newarkpickup or newarkdropoff or laguardiapickup or laguardiadropoff else 0\n",
    "\n",
    "df['is_by_airport'] = df.apply(close_to_airport, axis=1)"
   ],
   "metadata": {
    "collapsed": false,
    "pycharm": {
     "name": "#%%\n"
    }
   }
  },
  {
   "cell_type": "code",
   "execution_count": 4,
   "outputs": [],
   "source": [
    "my_time = df['pickup_datetime'][0]"
   ],
   "metadata": {
    "collapsed": false,
    "pycharm": {
     "name": "#%%\n"
    }
   }
  },
  {
   "cell_type": "code",
   "execution_count": 5,
   "outputs": [],
   "source": [
    "df['EDTdate'] = df['pickup_datetime'] - pd.Timedelta(hours=4)\n",
    "df['Hour'] = df['EDTdate'].dt.hour\n",
    "df['AMorPM'] = np.where(df['Hour'] < 12, 0, 1)"
   ],
   "metadata": {
    "collapsed": false,
    "pycharm": {
     "name": "#%%\n"
    }
   }
  },
  {
   "cell_type": "code",
   "execution_count": 9,
   "outputs": [
    {
     "name": "stdout",
     "output_type": "stream",
     "text": [
      "04/11/10\n",
      "04/24/10\n",
      "['04/19/10' '04/17/10' '04/11/10' '04/16/10' '04/22/10' '04/23/10'\n",
      " '04/15/10' '04/20/10' '04/21/10' '04/14/10' '04/13/10' '04/12/10'\n",
      " '04/24/10' '04/18/10']\n"
     ]
    }
   ],
   "source": [
    "df['Weekday'] = pd.to_numeric(df['EDTdate'].dt.strftime(\"%w\")) # an int between 0 - 6, representing the weekdays\n",
    "df['Month'] = pd.to_numeric(df['EDTdate'].dt.strftime(\"%m\")) # an int between 0 - 6, representing the weekdays\n",
    "\n",
    "#Formatting this correctly, we can use the dates to get the historical weather data for the dates\n",
    "df['FullDate'] = df['EDTdate'].dt.strftime('%x')\n",
    "#print(df['FullDate'].min())\n",
    "#print(df['FullDate'].max())\n",
    "print(df['FullDate'].unique())"
   ],
   "metadata": {
    "collapsed": false,
    "pycharm": {
     "name": "#%%\n"
    }
   }
  },
  {
   "cell_type": "code",
   "execution_count": 157,
   "outputs": [
    {
     "data": {
      "text/plain": "array(['04/19/10', '04/17/10', '04/11/10', '04/16/10', '04/22/10',\n       '04/23/10', '04/15/10', '04/20/10', '04/21/10', '04/14/10',\n       '04/13/10', '04/12/10', '04/24/10', '04/18/10'], dtype=object)"
     },
     "execution_count": 157,
     "metadata": {},
     "output_type": "execute_result"
    }
   ],
   "source": [],
   "metadata": {
    "collapsed": false,
    "pycharm": {
     "name": "#%%\n"
    }
   }
  },
  {
   "cell_type": "code",
   "execution_count": 28,
   "outputs": [
    {
     "name": "stdout",
     "output_type": "stream",
     "text": [
      "https://history.openweathermap.org/data/2.5/history/city?lat=&lon=&type=hour&start=1270944000.0&end=1272067200.0&appid=661b8c5b6e790b9cf55403d0af1cebe8\n"
     ]
    }
   ],
   "source": [
    "'''\n",
    "api_key_openweather = \"661b8c5b6e790b9cf55403d0af1cebe8\"\n",
    "new_york_middle_lat = \"\"\n",
    "new_york_middle_long = \"\"\n",
    "unique = np.sort(df['FullDate'].unique())\n",
    "start = time.mktime(datetime.datetime.strptime(unique[0], \"%m/%d/%y\").timetuple())\n",
    "end = time.mktime(datetime.datetime.strptime(unique[len(unique) - 1], \"%m/%d/%y\").timetuple())\n",
    "url = f\"https://history.openweathermap.org/data/2.5/history/city?lat={new_york_middle_lat}&lon={new_york_middle_long}&type=hour&start={start}&end={end}&appid={api_key_openweather}\"\n",
    "\n",
    "print(url)\n",
    "'''\n",
    "# Historical weather data, not working"
   ],
   "metadata": {
    "collapsed": false,
    "pycharm": {
     "name": "#%%\n"
    }
   }
  },
  {
   "cell_type": "code",
   "execution_count": 71,
   "outputs": [
    {
     "data": {
      "text/plain": "       DATE  PRCP  SNWD  SNOW  TMAX  TMIN       AWND\n0  09/01/01   0.0     0     0  -3.3  -9.4  22.351363\n1  09/01/02   0.0     0     0   1.1  -5.0  12.516764\n2  09/01/03   0.0     0     0   3.3  -1.7  20.116227\n3  09/01/04   0.0     0     0   5.6  -3.9  15.198927\n4  09/01/05   0.0     0     0   6.1   3.3  13.857845",
      "text/html": "<div>\n<style scoped>\n    .dataframe tbody tr th:only-of-type {\n        vertical-align: middle;\n    }\n\n    .dataframe tbody tr th {\n        vertical-align: top;\n    }\n\n    .dataframe thead th {\n        text-align: right;\n    }\n</style>\n<table border=\"1\" class=\"dataframe\">\n  <thead>\n    <tr style=\"text-align: right;\">\n      <th></th>\n      <th>DATE</th>\n      <th>PRCP</th>\n      <th>SNWD</th>\n      <th>SNOW</th>\n      <th>TMAX</th>\n      <th>TMIN</th>\n      <th>AWND</th>\n    </tr>\n  </thead>\n  <tbody>\n    <tr>\n      <th>0</th>\n      <td>09/01/01</td>\n      <td>0.0</td>\n      <td>0</td>\n      <td>0</td>\n      <td>-3.3</td>\n      <td>-9.4</td>\n      <td>22.351363</td>\n    </tr>\n    <tr>\n      <th>1</th>\n      <td>09/01/02</td>\n      <td>0.0</td>\n      <td>0</td>\n      <td>0</td>\n      <td>1.1</td>\n      <td>-5.0</td>\n      <td>12.516764</td>\n    </tr>\n    <tr>\n      <th>2</th>\n      <td>09/01/03</td>\n      <td>0.0</td>\n      <td>0</td>\n      <td>0</td>\n      <td>3.3</td>\n      <td>-1.7</td>\n      <td>20.116227</td>\n    </tr>\n    <tr>\n      <th>3</th>\n      <td>09/01/04</td>\n      <td>0.0</td>\n      <td>0</td>\n      <td>0</td>\n      <td>5.6</td>\n      <td>-3.9</td>\n      <td>15.198927</td>\n    </tr>\n    <tr>\n      <th>4</th>\n      <td>09/01/05</td>\n      <td>0.0</td>\n      <td>0</td>\n      <td>0</td>\n      <td>6.1</td>\n      <td>3.3</td>\n      <td>13.857845</td>\n    </tr>\n  </tbody>\n</table>\n</div>"
     },
     "execution_count": 71,
     "metadata": {},
     "output_type": "execute_result"
    }
   ],
   "source": [
    "# lets have some weather-y fuuuuuuuuuuuun-fuuuuuun-function\n",
    "# see this for doc https://www1.ncdc.noaa.gov/pub/data/cdo/documentation/GHCND_documentation.pdf\n",
    "weather_data = pd.read_csv('nyc-weather-data.csv')\n",
    "weather_labels = ['SNWD', 'SNOW', 'AWND'] #snow depth, did it snow\n",
    "for index, item in enumerate(weather_labels):\n",
    "    weather_data.loc[weather_data[item] <= -9999, item] = 0 # -9999 means that there is no data\n",
    "\n",
    "# df['dist_km'] = df.apply(lambda row: havardsine_distance(row.pickup_latitude, row.pickup_longitude, row.dropoff_latitude, row.dropoff_longitude), axis=1)\n",
    "\n",
    "weather_data['DATE'] = weather_data.apply(lambda row: datetime.datetime.strptime(str(row.DATE), '%Y%m%d').strftime('%y/%m/%d'), axis=1)\n",
    "weather_data = weather_data[['DATE','PRCP','SNWD','SNOW','TMAX','TMIN','AWND']]\n",
    "\n",
    "weather_data['TMIN'] = (weather_data['TMIN'] / 10) # the API returns degrees in an old format. We therefore convert the value to a tenth of its own form. Check the docu for this.\n",
    "weather_data['TMAX'] = (weather_data['TMAX'] / 10)\n",
    "weather_data['PRCP'] = weather_data['PRCP'] / 10\n",
    "\n",
    "weather_data['AWND'] = weather_data['AWND'] / 2.237 # meters per second\n",
    "weather_data.head()"
   ],
   "metadata": {
    "collapsed": false,
    "pycharm": {
     "name": "#%%\n"
    }
   }
  },
  {
   "cell_type": "code",
   "execution_count": 49,
   "outputs": [
    {
     "data": {
      "text/plain": "'09/01/01'"
     },
     "execution_count": 49,
     "metadata": {},
     "output_type": "execute_result"
    }
   ],
   "source": [
    "# 20090101\n",
    "\n",
    "datetime.datetime.strptime(str(20090101), '%Y%m%d').strftime('%y/%m/%d')"
   ],
   "metadata": {
    "collapsed": false,
    "pycharm": {
     "name": "#%%\n"
    }
   }
  },
  {
   "cell_type": "code",
   "execution_count": null,
   "outputs": [],
   "source": [],
   "metadata": {
    "collapsed": false,
    "pycharm": {
     "name": "#%%\n"
    }
   }
  }
 ],
 "metadata": {
  "kernelspec": {
   "display_name": "Python 3",
   "language": "python",
   "name": "python3"
  },
  "language_info": {
   "codemirror_mode": {
    "name": "ipython",
    "version": 2
   },
   "file_extension": ".py",
   "mimetype": "text/x-python",
   "name": "python",
   "nbconvert_exporter": "python",
   "pygments_lexer": "ipython2",
   "version": "2.7.6"
  }
 },
 "nbformat": 4,
 "nbformat_minor": 0
}