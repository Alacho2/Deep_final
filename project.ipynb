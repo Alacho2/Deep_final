{
 "cells": [
  {
   "cell_type": "code",
   "execution_count": 6,
   "metadata": {
    "collapsed": true,
    "pycharm": {
     "name": "#%%\n"
    }
   },
   "outputs": [],
   "source": [
    "import pandas as pd\n",
    "import numpy as np"
   ]
  },
  {
   "cell_type": "code",
   "execution_count": 5,
   "outputs": [
    {
     "data": {
      "text/plain": "                pickup_datetime  fare_amount  fare_class  pickup_longitude  \\\n0       2010-04-19 08:17:56 UTC          6.5           0        -73.992365   \n1       2010-04-17 15:43:53 UTC          6.9           0        -73.990078   \n2       2010-04-17 11:23:26 UTC         10.1           1        -73.994149   \n3       2010-04-11 21:25:03 UTC          8.9           0        -73.990485   \n4       2010-04-17 02:19:01 UTC         19.7           1        -73.990976   \n...                         ...          ...         ...               ...   \n119995  2010-04-18 14:33:03 UTC         15.3           1        -73.955857   \n119996  2010-04-23 10:27:48 UTC         15.3           1        -73.996329   \n119997  2010-04-18 18:50:40 UTC         12.5           1        -73.988574   \n119998  2010-04-13 08:14:44 UTC          4.9           0        -74.004449   \n119999  2010-04-17 16:00:14 UTC          5.3           0        -73.955415   \n\n        pickup_latitude  dropoff_longitude  dropoff_latitude  passenger_count  \n0             40.730521         -73.975499         40.744746                1  \n1             40.740558         -73.974232         40.744114                1  \n2             40.751118         -73.960064         40.766235                2  \n3             40.756422         -73.971205         40.748192                1  \n4             40.734202         -73.905956         40.743115                1  \n...                 ...                ...               ...              ...  \n119995        40.784590         -73.981941         40.736789                1  \n119996        40.772727         -74.049890         40.740413                1  \n119997        40.749772         -74.011541         40.707799                3  \n119998        40.724529         -73.992697         40.730765                1  \n119999        40.771920         -73.967623         40.763015                3  \n\n[120000 rows x 8 columns]",
      "text/html": "<div>\n<style scoped>\n    .dataframe tbody tr th:only-of-type {\n        vertical-align: middle;\n    }\n\n    .dataframe tbody tr th {\n        vertical-align: top;\n    }\n\n    .dataframe thead th {\n        text-align: right;\n    }\n</style>\n<table border=\"1\" class=\"dataframe\">\n  <thead>\n    <tr style=\"text-align: right;\">\n      <th></th>\n      <th>pickup_datetime</th>\n      <th>fare_amount</th>\n      <th>fare_class</th>\n      <th>pickup_longitude</th>\n      <th>pickup_latitude</th>\n      <th>dropoff_longitude</th>\n      <th>dropoff_latitude</th>\n      <th>passenger_count</th>\n    </tr>\n  </thead>\n  <tbody>\n    <tr>\n      <th>0</th>\n      <td>2010-04-19 08:17:56 UTC</td>\n      <td>6.5</td>\n      <td>0</td>\n      <td>-73.992365</td>\n      <td>40.730521</td>\n      <td>-73.975499</td>\n      <td>40.744746</td>\n      <td>1</td>\n    </tr>\n    <tr>\n      <th>1</th>\n      <td>2010-04-17 15:43:53 UTC</td>\n      <td>6.9</td>\n      <td>0</td>\n      <td>-73.990078</td>\n      <td>40.740558</td>\n      <td>-73.974232</td>\n      <td>40.744114</td>\n      <td>1</td>\n    </tr>\n    <tr>\n      <th>2</th>\n      <td>2010-04-17 11:23:26 UTC</td>\n      <td>10.1</td>\n      <td>1</td>\n      <td>-73.994149</td>\n      <td>40.751118</td>\n      <td>-73.960064</td>\n      <td>40.766235</td>\n      <td>2</td>\n    </tr>\n    <tr>\n      <th>3</th>\n      <td>2010-04-11 21:25:03 UTC</td>\n      <td>8.9</td>\n      <td>0</td>\n      <td>-73.990485</td>\n      <td>40.756422</td>\n      <td>-73.971205</td>\n      <td>40.748192</td>\n      <td>1</td>\n    </tr>\n    <tr>\n      <th>4</th>\n      <td>2010-04-17 02:19:01 UTC</td>\n      <td>19.7</td>\n      <td>1</td>\n      <td>-73.990976</td>\n      <td>40.734202</td>\n      <td>-73.905956</td>\n      <td>40.743115</td>\n      <td>1</td>\n    </tr>\n    <tr>\n      <th>...</th>\n      <td>...</td>\n      <td>...</td>\n      <td>...</td>\n      <td>...</td>\n      <td>...</td>\n      <td>...</td>\n      <td>...</td>\n      <td>...</td>\n    </tr>\n    <tr>\n      <th>119995</th>\n      <td>2010-04-18 14:33:03 UTC</td>\n      <td>15.3</td>\n      <td>1</td>\n      <td>-73.955857</td>\n      <td>40.784590</td>\n      <td>-73.981941</td>\n      <td>40.736789</td>\n      <td>1</td>\n    </tr>\n    <tr>\n      <th>119996</th>\n      <td>2010-04-23 10:27:48 UTC</td>\n      <td>15.3</td>\n      <td>1</td>\n      <td>-73.996329</td>\n      <td>40.772727</td>\n      <td>-74.049890</td>\n      <td>40.740413</td>\n      <td>1</td>\n    </tr>\n    <tr>\n      <th>119997</th>\n      <td>2010-04-18 18:50:40 UTC</td>\n      <td>12.5</td>\n      <td>1</td>\n      <td>-73.988574</td>\n      <td>40.749772</td>\n      <td>-74.011541</td>\n      <td>40.707799</td>\n      <td>3</td>\n    </tr>\n    <tr>\n      <th>119998</th>\n      <td>2010-04-13 08:14:44 UTC</td>\n      <td>4.9</td>\n      <td>0</td>\n      <td>-74.004449</td>\n      <td>40.724529</td>\n      <td>-73.992697</td>\n      <td>40.730765</td>\n      <td>1</td>\n    </tr>\n    <tr>\n      <th>119999</th>\n      <td>2010-04-17 16:00:14 UTC</td>\n      <td>5.3</td>\n      <td>0</td>\n      <td>-73.955415</td>\n      <td>40.771920</td>\n      <td>-73.967623</td>\n      <td>40.763015</td>\n      <td>3</td>\n    </tr>\n  </tbody>\n</table>\n<p>120000 rows × 8 columns</p>\n</div>"
     },
     "execution_count": 5,
     "metadata": {},
     "output_type": "execute_result"
    }
   ],
   "source": [
    "df = pd.read_csv('./NYCTaxiFares_small.csv')"
   ],
   "metadata": {
    "collapsed": false,
    "pycharm": {
     "name": "#%%\n"
    }
   }
  },
  {
   "cell_type": "code",
   "execution_count": 23,
   "outputs": [],
   "source": [
    "def haversine_distance(df, lat1, long1, lat2, long2):  # dataframe, pickup point lat / long, dropoff point lat / long\n",
    "    \"\"\"\n",
    "    Calculates the haversine distance between 2 sets of GPS coordinates in df\n",
    "    \"\"\"\n",
    "    r = 6371  # average radius of Earth in kilometers\n",
    "\n",
    "    phi1 = np.radians(df[lat1])\n",
    "    phi2 = np.radians(df[lat2])\n",
    "\n",
    "    delta_phi = np.radians(df[lat2] - df[lat1])\n",
    "    delta_lambda = np.radians(df[long2] - df[long1])\n",
    "\n",
    "    a = np.sin(delta_phi / 2.0) ** 2 + np.cos(phi1) * np.cos(phi2) * np.sin(delta_lambda / 2.0) ** 2\n",
    "    c = 2 * np.arctan2(np.sqrt(a), np.sqrt(1 - a))\n",
    "    d = (r * c)  # in kilometers\n",
    "\n",
    "    return d\n",
    "df['dist_km'] = haversine_distance(df, 'pickup_latitude', 'pickup_longitude', 'dropoff_latitude', 'dropoff_longitude')\n",
    "df['pickup_datetime'] = pd.to_datetime(df['pickup_datetime'])\n",
    "\n",
    "# JFK 40.645042, -73.786928\n",
    "# NEWARK 40.691547, -74.180202\n",
    "# LAGUARDIA 40.773281, -73.869845\n",
    "\n",
    "# if the dropoff lat/long or the pickup lat/long is within\n",
    "\n",
    "\n",
    "\n",
    "# take daylight saving into account"
   ],
   "metadata": {
    "collapsed": false,
    "pycharm": {
     "name": "#%%\n"
    }
   }
  },
  {
   "cell_type": "code",
   "execution_count": 24,
   "outputs": [
    {
     "name": "stdout",
     "output_type": "stream",
     "text": [
      "[{'lat': 40.645042, 'long': -73.786928}, {'lat': 40.691547, 'long': -74.180202}, {'lat': 40.773281, 'long': -73.869845}]\n"
     ]
    }
   ],
   "source": [
    "airport_coords = [\n",
    "    {'lat': 40.645042, 'long': -73.786928}, #JFK\n",
    "    {'lat': 40.691547, 'long': -74.180202}, #NEWARK\n",
    "    {'lat': 40.773281, 'long': -73.869845}, #LAGUARDI\n",
    "]\n",
    "\n",
    "def is_by_airport(df, lat1, long1, lat2, long2):\n",
    "    for i in range(airport_coords):\n",
    "        pass\n",
    "    # we want the\n",
    "\n",
    "    return 0\n",
    "\n",
    "df['is_airport'] = is_by_airport(df, 'pickup_latitude', '')"
   ],
   "metadata": {
    "collapsed": false,
    "pycharm": {
     "name": "#%%\n"
    }
   }
  },
  {
   "cell_type": "code",
   "execution_count": 22,
   "outputs": [
    {
     "data": {
      "text/plain": "                 pickup_datetime  fare_amount  fare_class  pickup_longitude  \\\n8614   2010-04-23 18:39:28+00:00        17.70           1        -74.082477   \n29074  2010-04-12 12:06:38+00:00        49.57           1        -73.776842   \n108382 2010-04-23 22:30:00+00:00        43.30           1        -73.789577   \n20377  2010-04-17 00:55:50+00:00        49.57           1        -73.782035   \n118513 2010-04-18 20:20:26+00:00        49.07           1        -73.776679   \n...                          ...          ...         ...               ...   \n110814 2010-04-19 15:02:23+00:00        49.57           1        -73.987674   \n109630 2010-04-24 07:01:00+00:00        48.00           1        -74.015023   \n9882   2010-04-13 07:12:38+00:00         2.90           0        -73.902083   \n62056  2010-04-14 10:56:47+00:00        14.00           1        -73.993123   \n46019  2010-04-15 06:38:22+00:00        49.57           1        -73.980163   \n\n        pickup_latitude  dropoff_longitude  dropoff_latitude  passenger_count  \\\n8614          40.953079         -73.962517         40.710054                2   \n29074         40.646087         -73.929099         40.864615                2   \n108382        40.646785         -73.876752         40.880233                1   \n20377         40.644719         -73.937501         40.856147                3   \n118513        40.645333         -73.880365         40.873021                1   \n...                 ...                ...               ...              ...   \n110814        40.750297         -73.987797         40.750311                1   \n109630        40.785000         -74.015125         40.785052                1   \n9882          40.764092         -73.902159         40.764020                1   \n62056         40.736208         -73.993147         40.736118                1   \n46019         40.776280         -73.980179         40.776189                1   \n\n          dist_km  is_airport                   EDTdate  Hour AMorPM Weekday  \n8614    28.846365         0.0 2010-04-23 14:39:28+00:00    14     pm     Fri  \n29074   27.475873         0.0 2010-04-12 08:06:38+00:00     8     am     Mon  \n108382  26.976530         0.0 2010-04-23 18:30:00+00:00    18     pm     Fri  \n20377   26.911161         0.0 2010-04-16 20:55:50+00:00    20     pm     Fri  \n118513  26.781598         0.0 2010-04-18 16:20:26+00:00    16     pm     Sun  \n...           ...         ...                       ...   ...    ...     ...  \n110814   0.010477         0.0 2010-04-19 11:02:23+00:00    11     am     Mon  \n109630   0.010353         0.0 2010-04-24 03:01:00+00:00     3     am     Sat  \n9882     0.010250         0.0 2010-04-13 03:12:38+00:00     3     am     Tue  \n62056    0.010210         0.0 2010-04-14 06:56:47+00:00     6     am     Wed  \n46019    0.010208         0.0 2010-04-15 02:38:22+00:00     2     am     Thu  \n\n[120000 rows x 14 columns]",
      "text/html": "<div>\n<style scoped>\n    .dataframe tbody tr th:only-of-type {\n        vertical-align: middle;\n    }\n\n    .dataframe tbody tr th {\n        vertical-align: top;\n    }\n\n    .dataframe thead th {\n        text-align: right;\n    }\n</style>\n<table border=\"1\" class=\"dataframe\">\n  <thead>\n    <tr style=\"text-align: right;\">\n      <th></th>\n      <th>pickup_datetime</th>\n      <th>fare_amount</th>\n      <th>fare_class</th>\n      <th>pickup_longitude</th>\n      <th>pickup_latitude</th>\n      <th>dropoff_longitude</th>\n      <th>dropoff_latitude</th>\n      <th>passenger_count</th>\n      <th>dist_km</th>\n      <th>is_airport</th>\n      <th>EDTdate</th>\n      <th>Hour</th>\n      <th>AMorPM</th>\n      <th>Weekday</th>\n    </tr>\n  </thead>\n  <tbody>\n    <tr>\n      <th>8614</th>\n      <td>2010-04-23 18:39:28+00:00</td>\n      <td>17.70</td>\n      <td>1</td>\n      <td>-74.082477</td>\n      <td>40.953079</td>\n      <td>-73.962517</td>\n      <td>40.710054</td>\n      <td>2</td>\n      <td>28.846365</td>\n      <td>0.0</td>\n      <td>2010-04-23 14:39:28+00:00</td>\n      <td>14</td>\n      <td>pm</td>\n      <td>Fri</td>\n    </tr>\n    <tr>\n      <th>29074</th>\n      <td>2010-04-12 12:06:38+00:00</td>\n      <td>49.57</td>\n      <td>1</td>\n      <td>-73.776842</td>\n      <td>40.646087</td>\n      <td>-73.929099</td>\n      <td>40.864615</td>\n      <td>2</td>\n      <td>27.475873</td>\n      <td>0.0</td>\n      <td>2010-04-12 08:06:38+00:00</td>\n      <td>8</td>\n      <td>am</td>\n      <td>Mon</td>\n    </tr>\n    <tr>\n      <th>108382</th>\n      <td>2010-04-23 22:30:00+00:00</td>\n      <td>43.30</td>\n      <td>1</td>\n      <td>-73.789577</td>\n      <td>40.646785</td>\n      <td>-73.876752</td>\n      <td>40.880233</td>\n      <td>1</td>\n      <td>26.976530</td>\n      <td>0.0</td>\n      <td>2010-04-23 18:30:00+00:00</td>\n      <td>18</td>\n      <td>pm</td>\n      <td>Fri</td>\n    </tr>\n    <tr>\n      <th>20377</th>\n      <td>2010-04-17 00:55:50+00:00</td>\n      <td>49.57</td>\n      <td>1</td>\n      <td>-73.782035</td>\n      <td>40.644719</td>\n      <td>-73.937501</td>\n      <td>40.856147</td>\n      <td>3</td>\n      <td>26.911161</td>\n      <td>0.0</td>\n      <td>2010-04-16 20:55:50+00:00</td>\n      <td>20</td>\n      <td>pm</td>\n      <td>Fri</td>\n    </tr>\n    <tr>\n      <th>118513</th>\n      <td>2010-04-18 20:20:26+00:00</td>\n      <td>49.07</td>\n      <td>1</td>\n      <td>-73.776679</td>\n      <td>40.645333</td>\n      <td>-73.880365</td>\n      <td>40.873021</td>\n      <td>1</td>\n      <td>26.781598</td>\n      <td>0.0</td>\n      <td>2010-04-18 16:20:26+00:00</td>\n      <td>16</td>\n      <td>pm</td>\n      <td>Sun</td>\n    </tr>\n    <tr>\n      <th>...</th>\n      <td>...</td>\n      <td>...</td>\n      <td>...</td>\n      <td>...</td>\n      <td>...</td>\n      <td>...</td>\n      <td>...</td>\n      <td>...</td>\n      <td>...</td>\n      <td>...</td>\n      <td>...</td>\n      <td>...</td>\n      <td>...</td>\n      <td>...</td>\n    </tr>\n    <tr>\n      <th>110814</th>\n      <td>2010-04-19 15:02:23+00:00</td>\n      <td>49.57</td>\n      <td>1</td>\n      <td>-73.987674</td>\n      <td>40.750297</td>\n      <td>-73.987797</td>\n      <td>40.750311</td>\n      <td>1</td>\n      <td>0.010477</td>\n      <td>0.0</td>\n      <td>2010-04-19 11:02:23+00:00</td>\n      <td>11</td>\n      <td>am</td>\n      <td>Mon</td>\n    </tr>\n    <tr>\n      <th>109630</th>\n      <td>2010-04-24 07:01:00+00:00</td>\n      <td>48.00</td>\n      <td>1</td>\n      <td>-74.015023</td>\n      <td>40.785000</td>\n      <td>-74.015125</td>\n      <td>40.785052</td>\n      <td>1</td>\n      <td>0.010353</td>\n      <td>0.0</td>\n      <td>2010-04-24 03:01:00+00:00</td>\n      <td>3</td>\n      <td>am</td>\n      <td>Sat</td>\n    </tr>\n    <tr>\n      <th>9882</th>\n      <td>2010-04-13 07:12:38+00:00</td>\n      <td>2.90</td>\n      <td>0</td>\n      <td>-73.902083</td>\n      <td>40.764092</td>\n      <td>-73.902159</td>\n      <td>40.764020</td>\n      <td>1</td>\n      <td>0.010250</td>\n      <td>0.0</td>\n      <td>2010-04-13 03:12:38+00:00</td>\n      <td>3</td>\n      <td>am</td>\n      <td>Tue</td>\n    </tr>\n    <tr>\n      <th>62056</th>\n      <td>2010-04-14 10:56:47+00:00</td>\n      <td>14.00</td>\n      <td>1</td>\n      <td>-73.993123</td>\n      <td>40.736208</td>\n      <td>-73.993147</td>\n      <td>40.736118</td>\n      <td>1</td>\n      <td>0.010210</td>\n      <td>0.0</td>\n      <td>2010-04-14 06:56:47+00:00</td>\n      <td>6</td>\n      <td>am</td>\n      <td>Wed</td>\n    </tr>\n    <tr>\n      <th>46019</th>\n      <td>2010-04-15 06:38:22+00:00</td>\n      <td>49.57</td>\n      <td>1</td>\n      <td>-73.980163</td>\n      <td>40.776280</td>\n      <td>-73.980179</td>\n      <td>40.776189</td>\n      <td>1</td>\n      <td>0.010208</td>\n      <td>0.0</td>\n      <td>2010-04-15 02:38:22+00:00</td>\n      <td>2</td>\n      <td>am</td>\n      <td>Thu</td>\n    </tr>\n  </tbody>\n</table>\n<p>120000 rows × 14 columns</p>\n</div>"
     },
     "execution_count": 22,
     "metadata": {},
     "output_type": "execute_result"
    }
   ],
   "source": [
    "my_time = df['pickup_datetime'][0]\n",
    "df.sort_values(by=['dist_km'], ascending=False)"
   ],
   "metadata": {
    "collapsed": false,
    "pycharm": {
     "name": "#%%\n"
    }
   }
  },
  {
   "cell_type": "code",
   "execution_count": 15,
   "outputs": [],
   "source": [
    "df['EDTdate'] = df['pickup_datetime'] - pd.Timedelta(hours=4)\n",
    "df['Hour'] = df['EDTdate'].dt.hour\n",
    "df['AMorPM'] = np.where(df['Hour'] < 12, 'am', 'pm')"
   ],
   "metadata": {
    "collapsed": false,
    "pycharm": {
     "name": "#%%\n"
    }
   }
  },
  {
   "cell_type": "code",
   "execution_count": 17,
   "outputs": [
    {
     "data": {
      "text/plain": "            pickup_datetime  fare_amount  fare_class  pickup_longitude  \\\n0 2010-04-19 08:17:56+00:00          6.5           0        -73.992365   \n1 2010-04-17 15:43:53+00:00          6.9           0        -73.990078   \n2 2010-04-17 11:23:26+00:00         10.1           1        -73.994149   \n3 2010-04-11 21:25:03+00:00          8.9           0        -73.990485   \n4 2010-04-17 02:19:01+00:00         19.7           1        -73.990976   \n5 2010-04-22 08:39:47+00:00          8.1           0        -73.980481   \n\n   pickup_latitude  dropoff_longitude  dropoff_latitude  passenger_count  \\\n0        40.730521         -73.975499         40.744746                1   \n1        40.740558         -73.974232         40.744114                1   \n2        40.751118         -73.960064         40.766235                2   \n3        40.756422         -73.971205         40.748192                1   \n4        40.734202         -73.905956         40.743115                1   \n5        40.748995         -73.983508         40.766459                1   \n\n    dist_km  is_airport                   EDTdate  Hour AMorPM  \n0  2.126312         0.0 2010-04-19 04:17:56+00:00     4     am  \n1  1.392307         0.0 2010-04-17 11:43:53+00:00    11     am  \n2  3.326763         0.0 2010-04-17 07:23:26+00:00     7     am  \n3  1.864129         0.0 2010-04-11 17:25:03+00:00    17     pm  \n4  7.231321         0.0 2010-04-16 22:19:01+00:00    22     pm  \n5  1.958574         0.0 2010-04-22 04:39:47+00:00     4     am  ",
      "text/html": "<div>\n<style scoped>\n    .dataframe tbody tr th:only-of-type {\n        vertical-align: middle;\n    }\n\n    .dataframe tbody tr th {\n        vertical-align: top;\n    }\n\n    .dataframe thead th {\n        text-align: right;\n    }\n</style>\n<table border=\"1\" class=\"dataframe\">\n  <thead>\n    <tr style=\"text-align: right;\">\n      <th></th>\n      <th>pickup_datetime</th>\n      <th>fare_amount</th>\n      <th>fare_class</th>\n      <th>pickup_longitude</th>\n      <th>pickup_latitude</th>\n      <th>dropoff_longitude</th>\n      <th>dropoff_latitude</th>\n      <th>passenger_count</th>\n      <th>dist_km</th>\n      <th>is_airport</th>\n      <th>EDTdate</th>\n      <th>Hour</th>\n      <th>AMorPM</th>\n    </tr>\n  </thead>\n  <tbody>\n    <tr>\n      <th>0</th>\n      <td>2010-04-19 08:17:56+00:00</td>\n      <td>6.5</td>\n      <td>0</td>\n      <td>-73.992365</td>\n      <td>40.730521</td>\n      <td>-73.975499</td>\n      <td>40.744746</td>\n      <td>1</td>\n      <td>2.126312</td>\n      <td>0.0</td>\n      <td>2010-04-19 04:17:56+00:00</td>\n      <td>4</td>\n      <td>am</td>\n    </tr>\n    <tr>\n      <th>1</th>\n      <td>2010-04-17 15:43:53+00:00</td>\n      <td>6.9</td>\n      <td>0</td>\n      <td>-73.990078</td>\n      <td>40.740558</td>\n      <td>-73.974232</td>\n      <td>40.744114</td>\n      <td>1</td>\n      <td>1.392307</td>\n      <td>0.0</td>\n      <td>2010-04-17 11:43:53+00:00</td>\n      <td>11</td>\n      <td>am</td>\n    </tr>\n    <tr>\n      <th>2</th>\n      <td>2010-04-17 11:23:26+00:00</td>\n      <td>10.1</td>\n      <td>1</td>\n      <td>-73.994149</td>\n      <td>40.751118</td>\n      <td>-73.960064</td>\n      <td>40.766235</td>\n      <td>2</td>\n      <td>3.326763</td>\n      <td>0.0</td>\n      <td>2010-04-17 07:23:26+00:00</td>\n      <td>7</td>\n      <td>am</td>\n    </tr>\n    <tr>\n      <th>3</th>\n      <td>2010-04-11 21:25:03+00:00</td>\n      <td>8.9</td>\n      <td>0</td>\n      <td>-73.990485</td>\n      <td>40.756422</td>\n      <td>-73.971205</td>\n      <td>40.748192</td>\n      <td>1</td>\n      <td>1.864129</td>\n      <td>0.0</td>\n      <td>2010-04-11 17:25:03+00:00</td>\n      <td>17</td>\n      <td>pm</td>\n    </tr>\n    <tr>\n      <th>4</th>\n      <td>2010-04-17 02:19:01+00:00</td>\n      <td>19.7</td>\n      <td>1</td>\n      <td>-73.990976</td>\n      <td>40.734202</td>\n      <td>-73.905956</td>\n      <td>40.743115</td>\n      <td>1</td>\n      <td>7.231321</td>\n      <td>0.0</td>\n      <td>2010-04-16 22:19:01+00:00</td>\n      <td>22</td>\n      <td>pm</td>\n    </tr>\n    <tr>\n      <th>5</th>\n      <td>2010-04-22 08:39:47+00:00</td>\n      <td>8.1</td>\n      <td>0</td>\n      <td>-73.980481</td>\n      <td>40.748995</td>\n      <td>-73.983508</td>\n      <td>40.766459</td>\n      <td>1</td>\n      <td>1.958574</td>\n      <td>0.0</td>\n      <td>2010-04-22 04:39:47+00:00</td>\n      <td>4</td>\n      <td>am</td>\n    </tr>\n  </tbody>\n</table>\n</div>"
     },
     "execution_count": 17,
     "metadata": {},
     "output_type": "execute_result"
    }
   ],
   "source": [
    "df.head(6)"
   ],
   "metadata": {
    "collapsed": false,
    "pycharm": {
     "name": "#%%\n"
    }
   }
  },
  {
   "cell_type": "code",
   "execution_count": 18,
   "outputs": [],
   "source": [
    "df['Weekday'] = df['EDTdate'].dt.strftime(\"%a\")"
   ],
   "metadata": {
    "collapsed": false,
    "pycharm": {
     "name": "#%%\n"
    }
   }
  },
  {
   "cell_type": "code",
   "execution_count": null,
   "outputs": [],
   "source": [],
   "metadata": {
    "collapsed": false,
    "pycharm": {
     "name": "#%%\n"
    }
   }
  }
 ],
 "metadata": {
  "kernelspec": {
   "display_name": "Python 3",
   "language": "python",
   "name": "python3"
  },
  "language_info": {
   "codemirror_mode": {
    "name": "ipython",
    "version": 2
   },
   "file_extension": ".py",
   "mimetype": "text/x-python",
   "name": "python",
   "nbconvert_exporter": "python",
   "pygments_lexer": "ipython2",
   "version": "2.7.6"
  }
 },
 "nbformat": 4,
 "nbformat_minor": 0
}